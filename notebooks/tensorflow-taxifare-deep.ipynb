{
 "cells": [
  {
   "cell_type": "markdown",
   "id": "38f9944f",
   "metadata": {},
   "source": [
    "# Install package"
   ]
  },
  {
   "cell_type": "code",
   "execution_count": 1,
   "id": "f5b1bfc1",
   "metadata": {},
   "outputs": [],
   "source": [
    "! pip install --quiet -U pip && pip install --quiet -e .."
   ]
  },
  {
   "cell_type": "code",
   "execution_count": 2,
   "id": "63dc8012",
   "metadata": {},
   "outputs": [],
   "source": [
    "%load_ext autoreload\n",
    "%autoreload 2"
   ]
  },
  {
   "cell_type": "code",
   "execution_count": 3,
   "id": "ba8459f1",
   "metadata": {},
   "outputs": [],
   "source": [
    "from tensorflow_taxifare_deep.trainer import Trainer"
   ]
  },
  {
   "cell_type": "markdown",
   "id": "2f4b56d2",
   "metadata": {},
   "source": [
    "# Train"
   ]
  },
  {
   "cell_type": "code",
   "execution_count": 4,
   "id": "635e5b54",
   "metadata": {},
   "outputs": [
    {
     "name": "stdout",
     "output_type": "stream",
     "text": [
      "CPU times: user 728 ms, sys: 173 ms, total: 900 ms\n",
      "Wall time: 4.94 s\n"
     ]
    }
   ],
   "source": [
    "%%time\n",
    "trainer = Trainer(nrows=100_000)"
   ]
  },
  {
   "cell_type": "code",
   "execution_count": 5,
   "id": "19c01435",
   "metadata": {},
   "outputs": [
    {
     "name": "stdout",
     "output_type": "stream",
     "text": [
      "###### loading and cleaning....\n",
      "clean 0.05\n",
      "CPU times: user 47.4 ms, sys: 4.41 ms, total: 51.8 ms\n",
      "Wall time: 50.9 ms\n"
     ]
    }
   ],
   "source": [
    "%%time\n",
    "trainer.clean()"
   ]
  },
  {
   "cell_type": "code",
   "execution_count": 6,
   "id": "9b979726",
   "metadata": {},
   "outputs": [
    {
     "name": "stdout",
     "output_type": "stream",
     "text": [
      "###### preprocessing....\n",
      "###### shape of X_train_preproc, y_train:  (59326, 221) (59326,)\n",
      "preproc 4.03\n",
      "CPU times: user 71.5 ms, sys: 133 ms, total: 204 ms\n",
      "Wall time: 4.03 s\n"
     ]
    }
   ],
   "source": [
    "%%time\n",
    "trainer.preproc(test_size=0.3)"
   ]
  },
  {
   "cell_type": "code",
   "execution_count": 7,
   "id": "56c01aa3",
   "metadata": {},
   "outputs": [
    {
     "name": "stdout",
     "output_type": "stream",
     "text": [
      "###### fitting...\n",
      "Model: \"sequential\"\n",
      "_________________________________________________________________\n",
      "Layer (type)                 Output Shape              Param #   \n",
      "=================================================================\n",
      "dense (Dense)                (None, 200)               44400     \n",
      "_________________________________________________________________\n",
      "dense_1 (Dense)              (None, 100)               20100     \n",
      "_________________________________________________________________\n",
      "dense_2 (Dense)              (None, 20)                2020      \n",
      "_________________________________________________________________\n",
      "dense_3 (Dense)              (None, 1)                 21        \n",
      "=================================================================\n",
      "Total params: 66,541\n",
      "Trainable params: 66,541\n",
      "Non-trainable params: 0\n",
      "_________________________________________________________________\n",
      "None\n",
      "Epoch 1/500\n"
     ]
    },
    {
     "name": "stderr",
     "output_type": "stream",
     "text": [
      "2022-03-07 15:48:06.037886: I tensorflow/core/platform/cpu_feature_guard.cc:142] This TensorFlow binary is optimized with oneAPI Deep Neural Network Library (oneDNN) to use the following CPU instructions in performance-critical operations:  SSE4.2\n",
      "To enable them in other operations, rebuild TensorFlow with the appropriate compiler flags.\n",
      "2022-03-07 15:48:06.187021: I tensorflow/compiler/mlir/mlir_graph_optimization_pass.cc:176] None of the MLIR Optimization Passes are enabled (registered 2)\n"
     ]
    },
    {
     "name": "stdout",
     "output_type": "stream",
     "text": [
      "649/649 [==============================] - 1s 1ms/step - loss: 45.3382 - mae: 2.9117 - val_loss: 37.0200 - val_mae: 2.2439\n",
      "Epoch 2/500\n",
      "649/649 [==============================] - 1s 1ms/step - loss: 28.7790 - mae: 2.2744 - val_loss: 33.5349 - val_mae: 2.1566\n",
      "Epoch 3/500\n",
      "649/649 [==============================] - 1s 1ms/step - loss: 26.5972 - mae: 2.2405 - val_loss: 32.1784 - val_mae: 2.4253\n",
      "Epoch 4/500\n",
      "649/649 [==============================] - 1s 1ms/step - loss: 25.1119 - mae: 2.2227 - val_loss: 29.9201 - val_mae: 2.1697\n",
      "Epoch 5/500\n",
      "649/649 [==============================] - 1s 1ms/step - loss: 23.6924 - mae: 2.1692 - val_loss: 28.4498 - val_mae: 2.2736\n",
      "Epoch 6/500\n",
      "649/649 [==============================] - 1s 1ms/step - loss: 22.4977 - mae: 2.1579 - val_loss: 27.1546 - val_mae: 2.1581\n",
      "Epoch 7/500\n",
      "649/649 [==============================] - 1s 1ms/step - loss: 21.7020 - mae: 2.1350 - val_loss: 26.9015 - val_mae: 2.2752\n",
      "Epoch 8/500\n",
      "649/649 [==============================] - 1s 1ms/step - loss: 21.1585 - mae: 2.1279 - val_loss: 26.2660 - val_mae: 2.0922\n",
      "Epoch 9/500\n",
      "649/649 [==============================] - 1s 1ms/step - loss: 20.5675 - mae: 2.0987 - val_loss: 25.9031 - val_mae: 2.0431\n",
      "Epoch 10/500\n",
      "649/649 [==============================] - 1s 1ms/step - loss: 20.1456 - mae: 2.0941 - val_loss: 26.0159 - val_mae: 2.1527\n",
      "Epoch 11/500\n",
      "649/649 [==============================] - 1s 1ms/step - loss: 19.8636 - mae: 2.0794 - val_loss: 25.3068 - val_mae: 2.0406\n",
      "Epoch 12/500\n",
      "649/649 [==============================] - 1s 1ms/step - loss: 19.4155 - mae: 2.0622 - val_loss: 24.9125 - val_mae: 2.0561\n",
      "Epoch 13/500\n",
      "649/649 [==============================] - 1s 1ms/step - loss: 19.1940 - mae: 2.0662 - val_loss: 25.1668 - val_mae: 2.0017\n",
      "Epoch 14/500\n",
      "649/649 [==============================] - 1s 1ms/step - loss: 19.0079 - mae: 2.0667 - val_loss: 24.5767 - val_mae: 2.0510\n",
      "Epoch 15/500\n",
      "649/649 [==============================] - 1s 1ms/step - loss: 18.6321 - mae: 2.0494 - val_loss: 25.1329 - val_mae: 2.0660\n",
      "Epoch 16/500\n",
      "649/649 [==============================] - 1s 1ms/step - loss: 18.4226 - mae: 2.0450 - val_loss: 24.4140 - val_mae: 2.1371\n",
      "Epoch 17/500\n",
      "649/649 [==============================] - 1s 1ms/step - loss: 18.1188 - mae: 2.0252 - val_loss: 24.2239 - val_mae: 2.0475\n",
      "Epoch 18/500\n",
      "649/649 [==============================] - 1s 1ms/step - loss: 17.9231 - mae: 2.0198 - val_loss: 24.3132 - val_mae: 2.1296\n",
      "Epoch 19/500\n",
      "649/649 [==============================] - 1s 1ms/step - loss: 17.7159 - mae: 2.0138 - val_loss: 24.0639 - val_mae: 2.0207\n",
      "Epoch 20/500\n",
      "649/649 [==============================] - 1s 1ms/step - loss: 17.5207 - mae: 2.0133 - val_loss: 24.1029 - val_mae: 2.0201\n",
      "Epoch 21/500\n",
      "649/649 [==============================] - 1s 1ms/step - loss: 17.3639 - mae: 2.0072 - val_loss: 24.1495 - val_mae: 2.0406\n",
      "Epoch 22/500\n",
      "649/649 [==============================] - 1s 1ms/step - loss: 17.2668 - mae: 2.0034 - val_loss: 24.0025 - val_mae: 2.0878\n",
      "Epoch 23/500\n",
      "649/649 [==============================] - 1s 1ms/step - loss: 17.0686 - mae: 1.9965 - val_loss: 23.9252 - val_mae: 2.0401\n",
      "Epoch 24/500\n",
      "649/649 [==============================] - 1s 1ms/step - loss: 16.8622 - mae: 1.9841 - val_loss: 23.9696 - val_mae: 1.9824\n",
      "Epoch 25/500\n",
      "649/649 [==============================] - 1s 1ms/step - loss: 16.7474 - mae: 1.9845 - val_loss: 24.1488 - val_mae: 2.0713\n",
      "Epoch 26/500\n",
      "649/649 [==============================] - 1s 1ms/step - loss: 16.5857 - mae: 1.9853 - val_loss: 24.0075 - val_mae: 1.9924\n",
      "Epoch 27/500\n",
      "649/649 [==============================] - 1s 1ms/step - loss: 16.4808 - mae: 1.9768 - val_loss: 23.8938 - val_mae: 2.0148\n",
      "Epoch 28/500\n",
      "649/649 [==============================] - 1s 1ms/step - loss: 16.3160 - mae: 1.9820 - val_loss: 24.3329 - val_mae: 2.0246\n",
      "Epoch 29/500\n",
      "649/649 [==============================] - 1s 1ms/step - loss: 16.1249 - mae: 1.9749 - val_loss: 24.0005 - val_mae: 2.0132\n",
      "Epoch 30/500\n",
      "649/649 [==============================] - 1s 1ms/step - loss: 15.9812 - mae: 1.9634 - val_loss: 23.9875 - val_mae: 2.0226\n",
      "Epoch 31/500\n",
      "649/649 [==============================] - 1s 1ms/step - loss: 15.8324 - mae: 1.9632 - val_loss: 24.0995 - val_mae: 2.0887\n",
      "Epoch 32/500\n",
      "649/649 [==============================] - 1s 1ms/step - loss: 15.6807 - mae: 1.9575 - val_loss: 24.1297 - val_mae: 2.0176\n",
      "####### min val MAE 1.9823801517486572\n",
      "####### epochs reached 32\n"
     ]
    },
    {
     "data": {
      "image/png": "[encoded data removed]",
      "text/plain": [
       "<Figure size 864x720 with 2 Axes>"
      ]
     },
     "metadata": {
      "needs_background": "light"
     },
     "output_type": "display_data"
    },
    {
     "name": "stdout",
     "output_type": "stream",
     "text": [
      "fit 25.53\n",
      "CPU times: user 45.5 s, sys: 6.64 s, total: 52.1 s\n",
      "Wall time: 25.5 s\n"
     ]
    }
   ],
   "source": [
    "%%time\n",
    "trainer.fit(plot_history=True, verbose=1)"
   ]
  },
  {
   "cell_type": "code",
   "execution_count": 8,
   "id": "fc66cffb",
   "metadata": {},
   "outputs": [
    {
     "name": "stdout",
     "output_type": "stream",
     "text": [
      "###### evaluates the model on a test set...\n",
      "###### test score (MAE) 1.9516643036665537\n",
      "evaluate 1.69\n",
      "CPU times: user 596 ms, sys: 349 ms, total: 945 ms\n",
      "Wall time: 1.69 s\n"
     ]
    }
   ],
   "source": [
    "%%time\n",
    "trainer.evaluate()"
   ]
  },
  {
   "cell_type": "code",
   "execution_count": 9,
   "id": "81172e4e",
   "metadata": {},
   "outputs": [
    {
     "name": "stdout",
     "output_type": "stream",
     "text": [
      "save_model 0.01\n",
      "CPU times: user 12.3 ms, sys: 2.14 ms, total: 14.4 ms\n",
      "Wall time: 14.1 ms\n"
     ]
    }
   ],
   "source": [
    "%%time\n",
    "trainer.save_model()"
   ]
  },
  {
   "cell_type": "code",
   "execution_count": 10,
   "id": "0a0556bf",
   "metadata": {},
   "outputs": [
    {
     "name": "stdout",
     "output_type": "stream",
     "text": [
      "-rw-r--r--  1 gmanchon  staff  836328 Mar  7 15:48 ../my_model.h5\r\n",
      "-rw-r--r--  1 gmanchon  staff    8075 Mar  7 15:48 ../my_pipeline.joblib\r\n"
     ]
    }
   ],
   "source": [
    "!ls -la ../my*"
   ]
  },
  {
   "cell_type": "markdown",
   "id": "8efa8c81",
   "metadata": {},
   "source": [
    "# Predict"
   ]
  },
  {
   "cell_type": "code",
   "execution_count": 11,
   "id": "f67384de",
   "metadata": {},
   "outputs": [
    {
     "name": "stdout",
     "output_type": "stream",
     "text": [
      "CPU times: user 136 ms, sys: 52.2 ms, total: 188 ms\n",
      "Wall time: 991 ms\n"
     ]
    }
   ],
   "source": [
    "%%time\n",
    "trainer = Trainer(nrows=0)"
   ]
  },
  {
   "cell_type": "code",
   "execution_count": 12,
   "id": "e6da08f2",
   "metadata": {},
   "outputs": [
    {
     "name": "stdout",
     "output_type": "stream",
     "text": [
      "load_model 0.04\n",
      "CPU times: user 32.1 ms, sys: 5.26 ms, total: 37.4 ms\n",
      "Wall time: 36.1 ms\n"
     ]
    }
   ],
   "source": [
    "%%time\n",
    "trainer.load_model()"
   ]
  },
  {
   "cell_type": "code",
   "execution_count": 13,
   "id": "e2e8b613",
   "metadata": {},
   "outputs": [
    {
     "name": "stdout",
     "output_type": "stream",
     "text": [
      "get_X_pred_example 0.0\n",
      "CPU times: user 705 µs, sys: 100 µs, total: 805 µs\n",
      "Wall time: 785 µs\n"
     ]
    }
   ],
   "source": [
    "%%time\n",
    "X_pred = trainer.get_X_pred_example()"
   ]
  },
  {
   "cell_type": "code",
   "execution_count": 14,
   "id": "bc3b5a13",
   "metadata": {},
   "outputs": [
    {
     "name": "stdout",
     "output_type": "stream",
     "text": [
      "###### predict...\n",
      "prediction 🌴 [[10.9370365]]\n",
      "predict 1.12\n",
      "CPU times: user 50.5 ms, sys: 6.11 ms, total: 56.6 ms\n",
      "Wall time: 1.12 s\n"
     ]
    },
    {
     "data": {
      "text/plain": [
       "array([[10.9370365]], dtype=float32)"
      ]
     },
     "execution_count": 14,
     "metadata": {},
     "output_type": "execute_result"
    }
   ],
   "source": [
    "%%time\n",
    "trainer.predict(X_pred)"
   ]
  }
 ],
 "metadata": {
  "kernelspec": {
   "display_name": "Python 3 (ipykernel)",
   "language": "python",
   "name": "python3"
  },
  "language_info": {
   "codemirror_mode": {
    "name": "ipython",
    "version": 3
   },
   "file_extension": ".py",
   "mimetype": "text/x-python",
   "name": "python",
   "nbconvert_exporter": "python",
   "pygments_lexer": "ipython3",
   "version": "3.8.12"
  },
  "toc": {
   "base_numbering": 1,
   "nav_menu": {},
   "number_sections": true,
   "sideBar": true,
   "skip_h1_title": false,
   "title_cell": "Table of Contents",
   "title_sidebar": "Contents",
   "toc_cell": false,
   "toc_position": {},
   "toc_section_display": true,
   "toc_window_display": false
  }
 },
 "nbformat": 4,
 "nbformat_minor": 5
}
