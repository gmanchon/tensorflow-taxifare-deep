{
 "cells": [
  {
   "cell_type": "markdown",
   "id": "dd755670",
   "metadata": {},
   "source": [
    "# Install package"
   ]
  },
  {
   "cell_type": "code",
   "execution_count": 1,
   "id": "4735ef5b",
   "metadata": {},
   "outputs": [],
   "source": [
    "! pip install --quiet -U pip && pip install --quiet -e .."
   ]
  },
  {
   "cell_type": "code",
   "execution_count": 2,
   "id": "58c0b886",
   "metadata": {},
   "outputs": [],
   "source": [
    "%load_ext autoreload\n",
    "%autoreload 2"
   ]
  },
  {
   "cell_type": "code",
   "execution_count": 3,
   "id": "88703af2",
   "metadata": {},
   "outputs": [],
   "source": [
    "from tensorflow_taxifare_deep.trainer import Trainer"
   ]
  },
  {
   "cell_type": "markdown",
   "id": "6ae62670",
   "metadata": {},
   "source": [
    "# Train"
   ]
  },
  {
   "cell_type": "code",
   "execution_count": null,
   "id": "88972d29",
   "metadata": {},
   "outputs": [],
   "source": [
    "%%time\n",
    "trainer = Trainer(nrows=500_000)"
   ]
  },
  {
   "cell_type": "code",
   "execution_count": null,
   "id": "2114bc0c",
   "metadata": {},
   "outputs": [],
   "source": [
    "%%time\n",
    "trainer.clean()"
   ]
  },
  {
   "cell_type": "code",
   "execution_count": null,
   "id": "ad163b62",
   "metadata": {},
   "outputs": [],
   "source": [
    "%%time\n",
    "trainer.preproc(test_size=0.3)"
   ]
  },
  {
   "cell_type": "code",
   "execution_count": null,
   "id": "563d74df",
   "metadata": {},
   "outputs": [],
   "source": [
    "%%time\n",
    "trainer.fit(plot_history=True, verbose=1)"
   ]
  },
  {
   "cell_type": "code",
   "execution_count": null,
   "id": "37375b48",
   "metadata": {},
   "outputs": [],
   "source": [
    "%%time\n",
    "trainer.evaluate()"
   ]
  },
  {
   "cell_type": "markdown",
   "id": "9d1a48a1",
   "metadata": {},
   "source": [
    "# Predict"
   ]
  },
  {
   "cell_type": "code",
   "execution_count": null,
   "id": "867e5366",
   "metadata": {},
   "outputs": [],
   "source": []
  }
 ],
 "metadata": {
  "kernelspec": {
   "display_name": "Python 3 (ipykernel)",
   "language": "python",
   "name": "python3"
  },
  "language_info": {
   "codemirror_mode": {
    "name": "ipython",
    "version": 3
   },
   "file_extension": ".py",
   "mimetype": "text/x-python",
   "name": "python",
   "nbconvert_exporter": "python",
   "pygments_lexer": "ipython3",
   "version": "3.8.12"
  },
  "toc": {
   "base_numbering": 1,
   "nav_menu": {},
   "number_sections": true,
   "sideBar": true,
   "skip_h1_title": false,
   "title_cell": "Table of Contents",
   "title_sidebar": "Contents",
   "toc_cell": false,
   "toc_position": {},
   "toc_section_display": true,
   "toc_window_display": false
  }
 },
 "nbformat": 4,
 "nbformat_minor": 5
}
