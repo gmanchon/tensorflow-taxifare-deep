{
 "cells": [
  {
   "cell_type": "markdown",
   "id": "e4a91c50",
   "metadata": {},
   "source": [
    "# Install package"
   ]
  },
  {
   "cell_type": "code",
   "execution_count": null,
   "id": "4658ac67",
   "metadata": {},
   "outputs": [],
   "source": [
    "! pip install --quiet -U pip && pip install --quiet -e .."
   ]
  },
  {
   "cell_type": "code",
   "execution_count": null,
   "id": "7eae4865",
   "metadata": {},
   "outputs": [],
   "source": [
    "%load_ext autoreload\n",
    "%autoreload 2"
   ]
  },
  {
   "cell_type": "code",
   "execution_count": null,
   "id": "076bf18a",
   "metadata": {},
   "outputs": [],
   "source": [
    "from tensorflow_taxifare_deep.trainer import Trainer"
   ]
  },
  {
   "cell_type": "markdown",
   "id": "086b3eb8",
   "metadata": {},
   "source": [
    "# Train"
   ]
  },
  {
   "cell_type": "code",
   "execution_count": null,
   "id": "afbf23b3",
   "metadata": {},
   "outputs": [],
   "source": [
    "%%time\n",
    "trainer = Trainer(nrows=100_000)"
   ]
  },
  {
   "cell_type": "code",
   "execution_count": null,
   "id": "9ae027e3",
   "metadata": {},
   "outputs": [],
   "source": [
    "%%time\n",
    "trainer.clean()"
   ]
  },
  {
   "cell_type": "code",
   "execution_count": null,
   "id": "81d0b687",
   "metadata": {},
   "outputs": [],
   "source": [
    "%%time\n",
    "trainer.preproc(test_size=0.3)"
   ]
  },
  {
   "cell_type": "code",
   "execution_count": null,
   "id": "8952226f",
   "metadata": {},
   "outputs": [],
   "source": [
    "%%time\n",
    "trainer.fit(plot_history=True, verbose=1)"
   ]
  },
  {
   "cell_type": "code",
   "execution_count": null,
   "id": "0b4b5956",
   "metadata": {},
   "outputs": [],
   "source": [
    "%%time\n",
    "trainer.evaluate()"
   ]
  },
  {
   "cell_type": "markdown",
   "id": "8f7334d1",
   "metadata": {},
   "source": [
    "# Predict"
   ]
  },
  {
   "cell_type": "code",
   "execution_count": null,
   "id": "1fc195bf",
   "metadata": {},
   "outputs": [],
   "source": []
  }
 ],
 "metadata": {
  "kernelspec": {
   "display_name": "Python 3 (ipykernel)",
   "language": "python",
   "name": "python3"
  },
  "language_info": {
   "codemirror_mode": {
    "name": "ipython",
    "version": 3
   },
   "file_extension": ".py",
   "mimetype": "text/x-python",
   "name": "python",
   "nbconvert_exporter": "python",
   "pygments_lexer": "ipython3",
   "version": "3.8.12"
  },
  "toc": {
   "base_numbering": 1,
   "nav_menu": {},
   "number_sections": true,
   "sideBar": true,
   "skip_h1_title": false,
   "title_cell": "Table of Contents",
   "title_sidebar": "Contents",
   "toc_cell": false,
   "toc_position": {},
   "toc_section_display": true,
   "toc_window_display": false
  }
 },
 "nbformat": 4,
 "nbformat_minor": 5
}
